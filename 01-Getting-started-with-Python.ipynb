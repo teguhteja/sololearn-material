{
 "cells": [
  {
   "cell_type": "markdown",
   "metadata": {},
   "source": [
    "## Writing Code"
   ]
  },
  {
   "cell_type": "markdown",
   "metadata": {},
   "source": [
    "Python is one of the most popular and useful languages used to give instructions to computers.\n",
    "Python has a simple syntax which means it's easy to write, read and learn!"
   ]
  },
  {
   "cell_type": "code",
   "execution_count": 3,
   "metadata": {},
   "outputs": [
    {
     "name": "stdout",
     "output_type": "stream",
     "text": [
      "Welcome\n"
     ]
    }
   ],
   "source": [
    "print(\"Welcome\")"
   ]
  },
  {
   "cell_type": "markdown",
   "metadata": {},
   "source": [
    "The print() instruction is the easiest way to send a message to the screen or other display device."
   ]
  },
  {
   "cell_type": "code",
   "execution_count": 2,
   "metadata": {},
   "outputs": [
    {
     "name": "stdout",
     "output_type": "stream",
     "text": [
      "Level Up!\n"
     ]
    }
   ],
   "source": [
    "print(\"Level Up!\")"
   ]
  },
  {
   "cell_type": "markdown",
   "metadata": {},
   "source": [
    "The print() instruction requires the use of parentheses around the message.\n",
    "Complete the line of code to send the message to the screen\n",
    "Make sure you use quotation marks around the text messages.\n",
    "It all starts with a line of code.\n",
    "If you miss the quotation marks around the text the computer won't understand your instructions.\n",
    "Complete the code for a food delivery app\n",
    "Numbers don't require quotation marks."
   ]
  },
  {
   "cell_type": "markdown",
   "metadata": {},
   "source": [
    "### Lesson Takeaways\n",
    "Amazing job! Python is widely used to build software and games, analyze data and program Artificial Intelligence. You learned that:\n",
    "\n",
    "🌟 humans use code to give instructions to machines\n",
    "\n",
    "🌟 the print() instruction displays a message on the screen"
   ]
  },
  {
   "cell_type": "markdown",
   "metadata": {},
   "source": [
    "## Memory & Variables"
   ]
  },
  {
   "cell_type": "markdown",
   "metadata": {},
   "source": [
    "Computer programs use variables to remember important information, like items in a shopping cart, prices and discounts.\n",
    "The line of code below tells the computer to store information in a variable called item."
   ]
  },
  {
   "cell_type": "code",
   "execution_count": 4,
   "metadata": {},
   "outputs": [],
   "source": [
    "item = \"bike\""
   ]
  },
  {
   "cell_type": "markdown",
   "metadata": {},
   "source": [
    "To create a variable, you just need to give it a name.\n",
    "The information that you need to store is added on the right.\n",
    "Variables have a name and a value. They are connected with the equal sign =.\n",
    "Complete the code to store location information in a variable named\n",
    "You can think of a variable as a box that contains some information. \n",
    "\n",
    "Use the image to identify the elements of the variable\n",
    "\n",
    "variable name: city\n",
    "variable value: \"London\"\n",
    "\n",
    "Create a variable that stores the user's device type\n",
    "\n",
    "Humans use code to give instructions to computers, but the code will also be read by other humans (and future you!)\n",
    "The line of code below tells the computer to store information in memory.\n",
    "True or False? Computers can store and recall information faster and more accurately than humans\n",
    "Computer programs can store information like the user's progress in a videogame with variables"
   ]
  },
  {
   "cell_type": "markdown",
   "metadata": {},
   "source": []
  },
  {
   "cell_type": "markdown",
   "metadata": {},
   "source": [
    "### Lesson Takeaways\n",
    "Amazing job! You learned that:\n",
    "\n",
    "🌟 Computer programs use variables to remember important information\n",
    "\n",
    "🌟 A variable has a name and a value\n",
    "\n",
    "🌟 You can create a variable by connecting the name and the value with an equal sign ="
   ]
  },
  {
   "cell_type": "markdown",
   "metadata": {},
   "source": [
    "## Text Data"
   ]
  },
  {
   "cell_type": "markdown",
   "metadata": {},
   "source": [
    "A large amount of information out there consists of text. A piece of text data is called a string.\n",
    "Strings in Python need to be surrounded by quotation marks.\n",
    "Create a valid Python string\n",
    "\n",
    "\"The Lord of the Rings\"\n",
    "\n",
    "We use quotation marks to tell Python that we are working with a piece of text data.\n",
    "Strings can be stored in variables.\n",
    "Complete the line of code to store the value \"Apple\" in the variable\n",
    "\n",
    "company = \"Apple\"\n",
    "\n",
    "A variable is storing a string if the value is surrounded by quotation marks\n",
    "\n",
    "In Python, both single ' and double \" quotes can be used to define strings. It doesn’t make a difference whether you choose double or single quotation marks.\n",
    "The quotation marks just need to match.\n",
    "\n",
    "A computer program is made of lines of code. \n",
    "You can add as many lines and variables to your code as you need to give the computer instructions.\n",
    "\n",
    "The code in computer programs is made of statements. \n",
    "Statements are the instructions for the computer to follow. \n",
    "Real programs can contain thousands of statements.\n",
    "\n",
    "The print() statement is the easiest way to send a value to the screen."
   ]
  },
  {
   "cell_type": "markdown",
   "metadata": {},
   "source": [
    "### Lesson Takeaways\n",
    "Well done! You learned that:\n",
    "\n",
    "🌟 A piece of text is called a string\n",
    "\n",
    "🌟 Strings require quotation marks\n",
    "\n",
    "🌟 The print() statement is used to send a value to the screen"
   ]
  },
  {
   "cell_type": "markdown",
   "metadata": {},
   "source": [
    "## Numerical Data"
   ]
  },
  {
   "cell_type": "markdown",
   "metadata": {},
   "source": [
    "Numerical values can be directly stored in variables.\n",
    "Select the name of the variable that is storing a numerical value"
   ]
  },
  {
   "cell_type": "code",
   "execution_count": 6,
   "metadata": {},
   "outputs": [],
   "source": [
    "book = \"The Hobbit\"\n",
    "pages = 310"
   ]
  },
  {
   "cell_type": "markdown",
   "metadata": {},
   "source": [
    "Numerical data shouldn't be in quotation marks. The line of code below declares a numerical variable\n"
   ]
  },
  {
   "cell_type": "code",
   "execution_count": 7,
   "metadata": {},
   "outputs": [],
   "source": [
    "points = 500"
   ]
  },
  {
   "cell_type": "markdown",
   "metadata": {},
   "source": [
    "Identify the elements of the variable\n",
    "\n",
    "Variable name: points\n",
    "\n",
    "Variable value: 500\n"
   ]
  },
  {
   "cell_type": "markdown",
   "metadata": {},
   "source": [
    "You can send a number to the screen with the print() statement. You just need to insert the number between the parentheses.\n",
    "\n",
    "You can perform math operations with numbers. Each print() instruction will add a value to the screen in a new line.\n",
    "\n",
    "What symbol is used to multiply numbers in Python?\n",
    "\n",
    "You can use the print() statement to check that the computer is following your instructions.\n",
    "\n",
    "Both lines of code below will make the computer perform the calculation. Which one will also show the result on the screen?\n",
    "\n",
    "A variable’s name is used to identify where that information is stored. You can access the value that a variable is storing by calling its name.\n",
    "\n",
    "How do you access the value stored in a variable? Calling the variable name\n",
    "\n",
    "The fragment below is part of a prototype for a new video game. Which 2 values will this code display on the screen?\n",
    "\n"
   ]
  },
  {
   "cell_type": "code",
   "execution_count": 8,
   "metadata": {},
   "outputs": [
    {
     "name": "stdout",
     "output_type": "stream",
     "text": [
      "magician\n",
      "50\n"
     ]
    }
   ],
   "source": [
    "username = \"magician\"\n",
    "points = 50\n",
    "lives = 3\n",
    "print(username)\n",
    "print(points)"
   ]
  },
  {
   "cell_type": "markdown",
   "metadata": {},
   "source": [
    "Lesson Takeaways\n",
    "Great work! You completed the lesson. You learned that:\n",
    "\n",
    " \n",
    "\n",
    "🌟 Numerical values can be stored in variables\n",
    "\n",
    "🌟 You can access the value stored in a variable by calling its name\n",
    "\n",
    "🌟 Numerical data should not be surrounded by quotation marks\n",
    "\n"
   ]
  },
  {
   "cell_type": "markdown",
   "metadata": {},
   "source": [
    "## Working with Variables"
   ]
  },
  {
   "cell_type": "markdown",
   "metadata": {},
   "source": [
    "Variables are key to software development. They allow you to store, label and play with data.\n",
    "Complete the code to store the string in the variable"
   ]
  },
  {
   "cell_type": "code",
   "execution_count": 1,
   "metadata": {},
   "outputs": [],
   "source": [
    "size = \"medium\""
   ]
  },
  {
   "cell_type": "markdown",
   "metadata": {},
   "source": [
    "Complete the code to store the number in the variable"
   ]
  },
  {
   "cell_type": "code",
   "execution_count": 2,
   "metadata": {},
   "outputs": [],
   "source": [
    "age = 34"
   ]
  },
  {
   "cell_type": "markdown",
   "metadata": {},
   "source": [
    "You can access the value stored in a variable by calling its name.\n",
    "What will this code send to the screen?"
   ]
  },
  {
   "cell_type": "code",
   "execution_count": 3,
   "metadata": {},
   "outputs": [
    {
     "name": "stdout",
     "output_type": "stream",
     "text": [
      "150\n"
     ]
    }
   ],
   "source": [
    "price = 150\n",
    "print(price)"
   ]
  },
  {
   "cell_type": "markdown",
   "metadata": {},
   "source": [
    "You can make calculations using the values in variables. What will this code send to the screen?"
   ]
  },
  {
   "cell_type": "code",
   "execution_count": 4,
   "metadata": {},
   "outputs": [
    {
     "name": "stdout",
     "output_type": "stream",
     "text": [
      "30\n"
     ]
    }
   ],
   "source": [
    "budget = 20\n",
    "print(budget + 10)"
   ]
  },
  {
   "cell_type": "markdown",
   "metadata": {},
   "source": [
    "What will this code send to the screen?"
   ]
  },
  {
   "cell_type": "code",
   "execution_count": 5,
   "metadata": {},
   "outputs": [
    {
     "name": "stdout",
     "output_type": "stream",
     "text": [
      "15\n"
     ]
    }
   ],
   "source": [
    "price = 5\n",
    "amount = 3\n",
    "print(price * amount)"
   ]
  },
  {
   "cell_type": "markdown",
   "metadata": {},
   "source": [
    "You can store the result of a calculation in a variable.\n",
    "\n",
    "What’s this code sending to the screen?"
   ]
  },
  {
   "cell_type": "code",
   "execution_count": 6,
   "metadata": {},
   "outputs": [
    {
     "name": "stdout",
     "output_type": "stream",
     "text": [
      "15\n"
     ]
    }
   ],
   "source": [
    "score = 7 + 8\n",
    "print(score)"
   ]
  },
  {
   "cell_type": "markdown",
   "metadata": {},
   "source": [
    "You can create a new variable to store the result of a calculation made using other variables."
   ]
  },
  {
   "cell_type": "code",
   "execution_count": 7,
   "metadata": {},
   "outputs": [],
   "source": [
    "price = 5\n",
    "amount = 6"
   ]
  },
  {
   "cell_type": "markdown",
   "metadata": {},
   "source": [
    "You can update the value stored in a variable. The variable will forget the previously stored value."
   ]
  },
  {
   "cell_type": "code",
   "execution_count": 8,
   "metadata": {},
   "outputs": [
    {
     "name": "stdout",
     "output_type": "stream",
     "text": [
      "100\n"
     ]
    }
   ],
   "source": [
    "price = 99\n",
    "price = 100\n",
    "print(price)"
   ]
  },
  {
   "cell_type": "markdown",
   "metadata": {},
   "source": [
    "Updating the value of a variable is called reassigning a variable.\n",
    "\n",
    "What will this code send to the screen?"
   ]
  },
  {
   "cell_type": "code",
   "execution_count": 9,
   "metadata": {},
   "outputs": [
    {
     "name": "stdout",
     "output_type": "stream",
     "text": [
      "45\n"
     ]
    }
   ],
   "source": [
    "points = 35\n",
    "points = 45\n",
    "print(points)"
   ]
  },
  {
   "attachments": {
    "image.png": {
     "image/png": "[encoded data removed]"
    }
   },
   "cell_type": "markdown",
   "metadata": {},
   "source": [
    "Rearrange the statements so that first the code declares the price variable, then declares the discount variable, and finally displays the discount value on the screen.\n",
    "\n",
    "![image.png](attachment:image.png)"
   ]
  },
  {
   "cell_type": "markdown",
   "metadata": {},
   "source": [
    "What values will the code send to the screen?"
   ]
  },
  {
   "cell_type": "code",
   "execution_count": 10,
   "metadata": {},
   "outputs": [
    {
     "name": "stdout",
     "output_type": "stream",
     "text": [
      "Tom\n",
      "15\n"
     ]
    }
   ],
   "source": [
    "name = \"Tom\"\n",
    "level = 14\n",
    "print(name)\n",
    "level = level + 1\n",
    "print(level)"
   ]
  },
  {
   "cell_type": "markdown",
   "metadata": {},
   "source": [
    "Type to declare a variable named credit"
   ]
  },
  {
   "cell_type": "markdown",
   "metadata": {},
   "source": [
    "Lesson Takeaways\n",
    "Great job! You learned that:\n",
    "\n",
    " \n",
    "\n",
    "🌟 You can run calculations using the values stored in variables\n",
    "\n",
    "🌟 You can store the result of a calculation in a variable\n",
    "\n",
    "🌟 Updating the value of a variable is called reassigning a variable\n",
    "\n"
   ]
  }
 ],
 "metadata": {
  "kernelspec": {
   "display_name": "base",
   "language": "python",
   "name": "python3"
  },
  "language_info": {
   "codemirror_mode": {
    "name": "ipython",
    "version": 3
   },
   "file_extension": ".py",
   "mimetype": "text/x-python",
   "name": "python",
   "nbconvert_exporter": "python",
   "pygments_lexer": "ipython3",
   "version": "3.12.2"
  }
 },
 "nbformat": 4,
 "nbformat_minor": 2
}
